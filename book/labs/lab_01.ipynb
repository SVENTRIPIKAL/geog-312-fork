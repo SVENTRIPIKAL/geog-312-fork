{
 "cells": [
  {
   "cell_type": "markdown",
   "id": "0",
   "metadata": {},
   "source": [
    "# Lab 1\n",
    "\n",
    "[![Open In Colab](https://colab.research.google.com/assets/colab-badge.svg)](https://colab.research.google.com/github/giswqs/geog-312/blob/main/book/labs/lab_01.ipynb)"
   ]
  },
  {
   "cell_type": "markdown",
   "id": "1",
   "metadata": {},
   "source": [
    "## Exercise 1: Variable Assignment and Basic Operations\n",
    "\n",
    "Create variables to store the following geospatial data:\n",
    "\n",
    "- The latitude and longitude of New York City: 40.7128, -74.0060.\n",
    "- The population of New York City: 8,336,817.\n",
    "- The area of New York City in square kilometers: 783.8.\n",
    "\n",
    "Perform the following tasks:\n",
    "\n",
    "1. Calculate and print the population density of New York City (population per square kilometer).\n",
    "2. Print the coordinates in the format \"Latitude: [latitude], Longitude: [longitude]\"."
   ]
  },
  {
   "cell_type": "code",
   "execution_count": 293,
   "id": "2",
   "metadata": {},
   "outputs": [
    {
     "name": "stdout",
     "output_type": "stream",
     "text": [
      "Population Density: 10636/Square Kilometers\n",
      "\n",
      "Latitude: 40.7128, Longitude: -74.006\n"
     ]
    }
   ],
   "source": [
    "geo_data = {\n",
    "    'New York City' : {\n",
    "        'latitude' : 40.7128,\n",
    "        'longitude' : -74.0060,\n",
    "        'population' : 8_336_817,\n",
    "        'area' : 783.8\n",
    "    }\n",
    "}\n",
    "\n",
    "new_york = geo_data['New York City']\n",
    "\n",
    "# 1\n",
    "print(f\"Population Density: {round(new_york['population']/new_york['area'])}/Square Kilometers\\n\")\n",
    "\n",
    "# 2\n",
    "print(f\"Latitude: {new_york['latitude']}, Longitude: {new_york['longitude']}\")"
   ]
  },
  {
   "cell_type": "markdown",
   "id": "3",
   "metadata": {},
   "source": [
    "## Exercise 2: Working with Strings\n",
    "\n",
    "Create a string variable to store the name of a city, such as \"San Francisco\". Perform the following operations:\n",
    "\n",
    "1. Convert the string to lowercase and print the result.\n",
    "2. Convert the string to uppercase and print the result.\n",
    "3. Replace \"San\" with \"Los\" in the city name and print the new string."
   ]
  },
  {
   "cell_type": "code",
   "execution_count": 294,
   "id": "4",
   "metadata": {},
   "outputs": [
    {
     "name": "stdout",
     "output_type": "stream",
     "text": [
      "san francisco\n",
      "SAN FRANCISCO\n",
      "Los Francisco\n"
     ]
    }
   ],
   "source": [
    "city = \"San Francisco\"\n",
    "\n",
    "# 1\n",
    "print(city.lower())\n",
    "\n",
    "# 2\n",
    "print(city.upper())\n",
    "\n",
    "# 3\n",
    "print(city.replace(\"San\", \"Los\"))"
   ]
  },
  {
   "cell_type": "markdown",
   "id": "5",
   "metadata": {},
   "source": [
    "## Exercise 3: Using Lists\n",
    "\n",
    "Create a list of tuples, where each tuple contains the name of a city and its corresponding latitude and longitude:\n",
    "\n",
    "- New York City: (40.7128, -74.0060)\n",
    "- Los Angeles: (34.0522, -118.2437)\n",
    "- Chicago: (41.8781, -87.6298)\n",
    "\n",
    "Perform the following tasks:\n",
    "\n",
    "1. Add a new city (e.g., Miami: (25.7617, -80.1918)) to the list.\n",
    "2. Print the entire list of cities.\n",
    "3. Slice the list to print only the first two cities."
   ]
  },
  {
   "cell_type": "code",
   "execution_count": 295,
   "id": "6",
   "metadata": {},
   "outputs": [
    {
     "name": "stdout",
     "output_type": "stream",
     "text": [
      "[('New York City', (40.7128, -74.006)), ('Los Angeles', (34.0522, -118.2437)), ('Chicago', (41.8781, -87.6298)), ('Miami', (25.7617, -80.1918))]\n",
      "[('New York City', (40.7128, -74.006)), ('Los Angeles', (34.0522, -118.2437))]\n"
     ]
    }
   ],
   "source": [
    "tuples_list = [\n",
    "    ('New York City', (40.7128, -74.0060)),\n",
    "    ('Los Angeles', (34.0522, -118.2437)),\n",
    "    ('Chicago', (41.8781, -87.6298))\n",
    "]\n",
    "\n",
    "# 1\n",
    "tuples_list.append(('Miami', (25.7617, -80.1918)))\n",
    "\n",
    "# 2\n",
    "print(tuples_list)\n",
    "\n",
    "# 3\n",
    "print(tuples_list[:2])"
   ]
  },
  {
   "cell_type": "markdown",
   "id": "7",
   "metadata": {},
   "source": [
    "## Exercise 4: Using Tuples\n",
    "\n",
    "Create a tuple to store the coordinates (latitude, longitude) of the Eiffel Tower: (48.8584, 2.2945). Perform the following tasks:\n",
    "\n",
    "1. Access and print the latitude and longitude values from the tuple.\n",
    "2. Try to change the latitude value to 48.8585. What happens? Explain why."
   ]
  },
  {
   "cell_type": "code",
   "execution_count": 296,
   "id": "8",
   "metadata": {},
   "outputs": [
    {
     "name": "stdout",
     "output_type": "stream",
     "text": [
      "Latitude: 48.8584, Longitude: 2.2945\n"
     ]
    }
   ],
   "source": [
    "eiffel_tower_coord = (48.8584, 2.2945)\n",
    "\n",
    "# 1\n",
    "print(f\"Latitude: {eiffel_tower_coord[0]}, Longitude: {eiffel_tower_coord[1]}\")\n",
    "\n",
    "# 2:\n",
    "# trying to change the value of a Tuple will always result in an Error since\n",
    "# tuples are immutable and designed to prevent value changes once assigned."
   ]
  },
  {
   "cell_type": "markdown",
   "id": "9",
   "metadata": {},
   "source": [
    "## Exercise 5: Working with Sets\n",
    "\n",
    "Create a set of countries you have visited, such as {\"USA\", \"France\", \"Germany\"}. Perform the following tasks:\n",
    "\n",
    "1. Add a new country to the set.\n",
    "2. Try to add the same country again. What happens?\n",
    "3. Print the updated set."
   ]
  },
  {
   "cell_type": "code",
   "execution_count": 297,
   "id": "10",
   "metadata": {},
   "outputs": [
    {
     "name": "stdout",
     "output_type": "stream",
     "text": [
      "{'Germany', 'USA', 'France', 'Japan'}\n"
     ]
    }
   ],
   "source": [
    "countries_set = { \"USA\", \"France\", \"Germany\" }\n",
    "\n",
    "# 1\n",
    "countries_set.add(\"Japan\")\n",
    "\n",
    "# 2:\n",
    "# Sets prevent duplicate values, so adding a value \n",
    "# that is already present will result in no change.\n",
    "countries_set.add(\"Japan\")\n",
    "\n",
    "# 3\n",
    "print(countries_set)"
   ]
  },
  {
   "cell_type": "markdown",
   "id": "11",
   "metadata": {},
   "source": [
    "## Exercise 6: Working with Dictionaries\n",
    "\n",
    "Create a dictionary to store information about a specific geospatial feature, such as a river:\n",
    "\n",
    "- Name: \"Amazon River\"\n",
    "- Length: 6400 km\n",
    "- Countries: [\"Brazil\", \"Peru\", \"Colombia\"]\n",
    "\n",
    "Perform the following tasks:\n",
    "\n",
    "1. Add a new key-value pair to the dictionary to store the river's average discharge (e.g., 209,000 m³/s).\n",
    "2. Update the length of the river to 6992 km.\n",
    "3. Print the dictionary."
   ]
  },
  {
   "cell_type": "code",
   "execution_count": 298,
   "id": "12",
   "metadata": {},
   "outputs": [
    {
     "name": "stdout",
     "output_type": "stream",
     "text": [
      "{'Name': 'Amazon River', 'Length': 6992, 'Countries': ['Brazil', 'Peru', 'Colombia'], 'Average Discharge': 209000}\n"
     ]
    }
   ],
   "source": [
    "geospacial_feature = {\n",
    "    'Name' : 'Amazon River',\n",
    "    'Length' : 6_400,\n",
    "    'Countries' : [\"Brazil\", \"Peru\", \"Colombia\"]\n",
    "}\n",
    "\n",
    "# 1\n",
    "geospacial_feature['Average Discharge'] = 209_000\n",
    "\n",
    "# 2\n",
    "geospacial_feature['Length'] = 6_992\n",
    "\n",
    "# 3\n",
    "print(geospacial_feature)"
   ]
  },
  {
   "cell_type": "markdown",
   "id": "13",
   "metadata": {},
   "source": [
    "## Exercise 7: Nested Data Structures\n",
    "\n",
    "Create a dictionary to represent a city that contains the city's name, population, and coordinates (latitude, longitude):\n",
    "\n",
    "- Name: \"Tokyo\"\n",
    "- Population: 13,515,271\n",
    "- Coordinates: (35.6895, 139.6917)\n",
    "\n",
    "Perform the following tasks:\n",
    "\n",
    "1. Access and print the population of the city.\n",
    "2. Access and print the city's latitude.\n",
    "3. Update the population to 14,000,000 and print the updated dictionary."
   ]
  },
  {
   "cell_type": "code",
   "execution_count": 299,
   "id": "14",
   "metadata": {},
   "outputs": [
    {
     "name": "stdout",
     "output_type": "stream",
     "text": [
      "13515271\n",
      "35.6895\n",
      "{'Name': 'Tokyo', 'Population': 14000000, 'Coordinates': (35.6895, 139.6917)}\n"
     ]
    }
   ],
   "source": [
    "city_dict = {\n",
    "    'Name' : \"Tokyo\",\n",
    "    'Population' : 13_515_271,\n",
    "    'Coordinates' : (35.6895, 139.6917)\n",
    "}\n",
    "\n",
    "# 1\n",
    "print(city_dict['Population'])\n",
    "\n",
    "# 2\n",
    "print(city_dict['Coordinates'][0])\n",
    "\n",
    "# 3\n",
    "city_dict['Population'] = 14_000_000\n",
    "print(city_dict)"
   ]
  },
  {
   "cell_type": "markdown",
   "id": "15",
   "metadata": {},
   "source": [
    "## Exercise 8: List Operations\n",
    "\n",
    "Given the list of cities from Exercise 3, perform the following operations:\n",
    "\n",
    "1. Sort the list of cities alphabetically by name.\n",
    "2. Create a new list that contains only the city names.\n",
    "3. Remove the last city from the original list and print the updated list."
   ]
  },
  {
   "cell_type": "code",
   "execution_count": 300,
   "id": "16",
   "metadata": {},
   "outputs": [
    {
     "name": "stdout",
     "output_type": "stream",
     "text": [
      "[('Chicago', (41.8781, -87.6298)), ('Los Angeles', (34.0522, -118.2437)), ('Miami', (25.7617, -80.1918)), ('New York City', (40.7128, -74.006))]\n",
      "['Chicago', 'Los Angeles', 'Miami', 'New York City']\n",
      "[('New York City', (40.7128, -74.006)), ('Los Angeles', (34.0522, -118.2437)), ('Chicago', (41.8781, -87.6298))]\n"
     ]
    }
   ],
   "source": [
    "#tuples_list = [\n",
    "#    ('New York City', (40.7128, -74.0060)),\n",
    "#    ('Los Angeles', (34.0522, -118.2437)),\n",
    "#    ('Chicago', (41.8781, -87.6298)),\n",
    "#    ('Miami', (25.7617, -80.1918))\n",
    "#]\n",
    "\n",
    "# 1\n",
    "sorted_list = sorted(tuples_list)\n",
    "print(sorted_list)\n",
    "\n",
    "# 2\n",
    "city_names_list = [item[0] for item in sorted_list]\n",
    "print(city_names_list)\n",
    "\n",
    "# 3\n",
    "tuples_list.pop()\n",
    "print(tuples_list)"
   ]
  },
  {
   "cell_type": "markdown",
   "id": "17",
   "metadata": {},
   "source": [
    "## Exercise 9: Dictionary Operations\n",
    "\n",
    "Using the dictionary from Exercise 6, perform the following tasks:\n",
    "\n",
    "1. Check if the key \"Length\" exists in the dictionary.\n",
    "2. Print all the keys in the dictionary.\n",
    "3. Print all the values in the dictionary."
   ]
  },
  {
   "cell_type": "code",
   "execution_count": 301,
   "id": "18",
   "metadata": {},
   "outputs": [
    {
     "name": "stdout",
     "output_type": "stream",
     "text": [
      "True\n",
      "Name_Length_Countries_Average Discharge_\n",
      "Amazon River_6992_['Brazil', 'Peru', 'Colombia']_209000_\n"
     ]
    }
   ],
   "source": [
    "#geospacial_feature = {\n",
    "#    'Name' : 'Amazon River',\n",
    "#    'Length' : 6992,\n",
    "#    'Countries' : [\"Brazil\", \"Peru\", \"Colombia\"],\n",
    "#    'Average Discharge': 209000\n",
    "#}\n",
    "\n",
    "# 1\n",
    "print('Length' in geospacial_feature)\n",
    "\n",
    "# 2\n",
    "for key in geospacial_feature.keys():\n",
    "    print(f\"{key}\", end=\"_\")\n",
    "print()\n",
    "\n",
    "# 3\n",
    "for value in geospacial_feature.values():\n",
    "    print(f\"{value}\", end=\"_\")\n",
    "print()"
   ]
  },
  {
   "cell_type": "markdown",
   "id": "19",
   "metadata": {},
   "source": [
    "## Exercise 10: Practical Application\n",
    "\n",
    "Imagine you have a list of tuples, each representing a location with its name, latitude, and longitude:"
   ]
  },
  {
   "cell_type": "code",
   "execution_count": 302,
   "id": "20",
   "metadata": {},
   "outputs": [],
   "source": [
    "locations = [\n",
    "    (\"Mount Everest\", 27.9881, 86.9250),\n",
    "    (\"K2\", 35.8808, 76.5155),\n",
    "    (\"Kangchenjunga\", 27.7025, 88.1475),\n",
    "]"
   ]
  },
  {
   "cell_type": "markdown",
   "id": "21",
   "metadata": {},
   "source": [
    "Perform the following tasks:\n",
    "\n",
    "1. Create a new list that contains only the names of the locations.\n",
    "2. Create a dictionary where the keys are location names and the values are tuples of their coordinates.\n",
    "3. Print the latitude of \"K2\" using the dictionary."
   ]
  },
  {
   "cell_type": "code",
   "execution_count": 303,
   "id": "22",
   "metadata": {},
   "outputs": [
    {
     "name": "stdout",
     "output_type": "stream",
     "text": [
      "35.8808\n"
     ]
    }
   ],
   "source": [
    "# 1\n",
    "location_names = [loc[0] for loc in locations]\n",
    "\n",
    "# 2\n",
    "locations_dict = {}\n",
    "\n",
    "for loc in locations:\n",
    "    locations_dict[loc[0]] = (loc[1], loc[2])\n",
    "\n",
    "# 3\n",
    "print(locations_dict['K2'][0])"
   ]
  }
 ],
 "metadata": {
  "kernelspec": {
   "display_name": "geo",
   "language": "python",
   "name": "python3"
  },
  "language_info": {
   "codemirror_mode": {
    "name": "ipython",
    "version": 3
   },
   "file_extension": ".py",
   "mimetype": "text/x-python",
   "name": "python",
   "nbconvert_exporter": "python",
   "pygments_lexer": "ipython3",
   "version": "3.11.14"
  }
 },
 "nbformat": 4,
 "nbformat_minor": 5
}
