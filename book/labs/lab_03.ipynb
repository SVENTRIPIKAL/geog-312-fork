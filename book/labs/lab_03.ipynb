{
 "cells": [
  {
   "cell_type": "markdown",
   "id": "0",
   "metadata": {},
   "source": [
    "# Lab 3\n",
    "\n",
    "[![Open In Colab](https://colab.research.google.com/assets/colab-badge.svg)](https://colab.research.google.com/github/giswqs/geog-312/blob/main/book/labs/lab_03.ipynb)\n",
    "\n",
    "This notebook contains exercises based on the lectures on [**Functions and Classes**](https://geog-312.gishub.org/book/python/06_functions_classes.html) and [**Files and Exception Handling**](https://geog-312.gishub.org/book/python/07_files.html). These exercises will help reinforce the concepts of functions, classes, file handling, and exception management in geospatial contexts."
   ]
  },
  {
   "cell_type": "markdown",
   "id": "1",
   "metadata": {},
   "source": [
    "## Exercise 1: Calculating Distances with Functions\n",
    "\n",
    "- Define a function `calculate_distance` that takes two geographic coordinates (latitude and longitude) and returns the distance between them using the Haversine formula.\n",
    "- Use this function to calculate the distance between multiple pairs of coordinates."
   ]
  },
  {
   "cell_type": "code",
   "execution_count": 139,
   "id": "2",
   "metadata": {},
   "outputs": [
    {
     "name": "stdout",
     "output_type": "stream",
     "text": [
      "2445 miles\n"
     ]
    }
   ],
   "source": [
    "from haversine import haversine, Unit\n",
    "\n",
    "# 1\n",
    "# returns the distance between 2 coordinate tuples in miles using Haversine function\n",
    "def calculate_distance(coordinate_1, coordinate_2):\n",
    "    return int(haversine(coordinate_1, coordinate_2, Unit.MILES))\n",
    "\n",
    "# lat, lon\n",
    "new_york = (40.7127281,-74.0060152)\n",
    "los_angeles = (34.0536909,-118.242766)\n",
    "\n",
    "print(f\"{calculate_distance(new_york, los_angeles)} miles\")"
   ]
  },
  {
   "cell_type": "markdown",
   "id": "3",
   "metadata": {},
   "source": [
    "## Exercise 2: Batch Distance Calculation\n",
    "\n",
    "- Create a function `batch_distance_calculation` that accepts a list of coordinate pairs and returns a list of distances between consecutive pairs.\n",
    "- Test the function with a list of coordinates representing several cities."
   ]
  },
  {
   "cell_type": "code",
   "execution_count": 140,
   "id": "4",
   "metadata": {},
   "outputs": [
    {
     "name": "stdout",
     "output_type": "stream",
     "text": [
      "[4462, 3709, 4918, 7968, 9183, 8049, 7880, 4601, 974, 5848, 5941, 1796, 5304, 4934, 7748, 1036, 4436, 1300, 4942]\n"
     ]
    }
   ],
   "source": [
    "# 1\n",
    "# returns a list of distances in miles between consecutive pairs from a list of coordinates\n",
    "def batch_distance_calculation(coord_list_pairs):\n",
    "    distance_list = []\n",
    "    for i in range(len(coord_list_pairs)-1):\n",
    "        pair_1, pair_2 = coord_list_pairs[i], coord_list_pairs[i+1]\n",
    "        distance_list.append(calculate_distance(pair_1, pair_2))\n",
    "    return distance_list\n",
    "\n",
    "# 2\n",
    "random_city_coordinates = [\n",
    "    (49.2827, -123.1216),\n",
    "    (59.9139, 10.7522),\n",
    "    (6.5244, 3.3792),\n",
    "    (-34.6037, -58.3816),\n",
    "    (50.4501, 30.5236),\n",
    "    (-37.8136, 144.9631),\n",
    "    (-12.0464, -77.0428),\n",
    "    (-6.1659, 39.2026),\n",
    "    (59.4370, 24.7535),\n",
    "    (51.2194, 4.4025),\n",
    "    (35.6762, 139.6503),\n",
    "    (30.0444, 31.2357),\n",
    "    (41.3784, 2.1925),\n",
    "    (-33.9249, 18.4241),\n",
    "    (-33.4489, -70.6693),\n",
    "    (50.0755, 14.4378),\n",
    "    (55.7558, 37.6173),\n",
    "    (22.3193, 114.1694),\n",
    "    (37.5665, 126.9780),\n",
    "    (41.0082, 28.9784)\n",
    "]\n",
    "print(batch_distance_calculation(random_city_coordinates))"
   ]
  },
  {
   "cell_type": "markdown",
   "id": "5",
   "metadata": {},
   "source": [
    "## Exercise 3: Creating and Using a Point Class\n",
    "\n",
    "- Define a `Point` class to represent a geographic point with attributes `latitude`, `longitude`, and `name`.\n",
    "- Add a method `distance_to` that calculates the distance from one point to another.\n",
    "- Instantiate several `Point` objects and calculate the distance between them."
   ]
  },
  {
   "cell_type": "code",
   "execution_count": 141,
   "id": "6",
   "metadata": {},
   "outputs": [
    {
     "name": "stdout",
     "output_type": "stream",
     "text": [
      "[6742, 6034, 213, 10559, 8401, 3765, 6299, 4649, 6874, 8315, 5784, 5049, 5272, 4516]\n"
     ]
    }
   ],
   "source": [
    "# 1\n",
    "# define Point class\n",
    "class Point:\n",
    "    # initializes coordinates and name to Point\n",
    "    def __init__(self, latitude, longitude, name) -> None:\n",
    "        self.latitude = latitude\n",
    "        self.longitude = longitude\n",
    "        self.name = name\n",
    "    # 2\n",
    "    # returns distance in miles between two Points\n",
    "    def distance_to(self, other_point) -> int:\n",
    "            # unpack points to lat, lon tuples\n",
    "            this_point = (self.latitude, self.longitude)\n",
    "            other_point = (other_point.latitude, other_point.longitude)\n",
    "            # return data\n",
    "            return calculate_distance(this_point, other_point)\n",
    "\n",
    "# 3\n",
    "random_cities = [\n",
    "    {\"name\": \"New York\", \"coordinates\": (40.7128, -74.0060)},\n",
    "    {\"name\": \"Tokyo\", \"coordinates\": (35.6762, 139.6503)},\n",
    "    {\"name\": \"Paris\", \"coordinates\": (48.8566, 2.3522)},\n",
    "    {\"name\": \"London\", \"coordinates\": (51.5074, -0.1278)},\n",
    "    {\"name\": \"Sydney\", \"coordinates\": (-33.8688, 151.2093)},\n",
    "    {\"name\": \"Rio de Janeiro\", \"coordinates\": (-22.9068, -43.1729)},\n",
    "    {\"name\": \"Cape Town\", \"coordinates\": (-33.9249, 18.4241)},\n",
    "    {\"name\": \"Moscow\", \"coordinates\": (55.7558, 37.6173)},\n",
    "    {\"name\": \"Toronto\", \"coordinates\": (43.65107, -79.347015)},\n",
    "    {\"name\": \"Dubai\", \"coordinates\": (25.276987, 55.296249)},\n",
    "    {\"name\": \"Los Angeles\", \"coordinates\": (34.0522, -118.2437)},\n",
    "    {\"name\": \"Berlin\", \"coordinates\": (52.5200, 13.4050)},\n",
    "    {\"name\": \"Seoul\", \"coordinates\": (37.5665, 126.9780)},\n",
    "    {\"name\": \"Cairo\", \"coordinates\": (30.0444, 31.2357)},\n",
    "    {\"name\": \"Bangkok\", \"coordinates\": (13.7563, 100.5018)}\n",
    "]\n",
    "\n",
    "# create list of Points\n",
    "points_list = []\n",
    "for obj in random_cities:\n",
    "     name, coord = obj['name'], obj['coordinates']\n",
    "     points_list.append(Point(latitude=coord[0], longitude=coord[1], name=name))\n",
    "\n",
    "# create list of distance between each point in miles\n",
    "distance_list = []\n",
    "for i in range(len(points_list)-1):\n",
    "     point_one, point_two = points_list[i], points_list[i+1]\n",
    "     distance_list.append(point_one.distance_to(point_two))\n",
    "\n",
    "print(distance_list)"
   ]
  },
  {
   "cell_type": "markdown",
   "id": "7",
   "metadata": {},
   "source": [
    "## Exercise 4: Reading and Writing Files\n",
    "\n",
    "- Write a function `read_coordinates` that reads a file containing a list of coordinates (latitude, longitude) and returns them as a list of tuples.\n",
    "- Write another function `write_coordinates` that takes a list of coordinates and writes them to a new file.\n",
    "- Ensure that both functions handle exceptions, such as missing files or improperly formatted data."
   ]
  },
  {
   "cell_type": "code",
   "execution_count": 142,
   "id": "8",
   "metadata": {},
   "outputs": [
    {
     "name": "stdout",
     "output_type": "stream",
     "text": [
      "[(35.6895, 139.6917), (34.0522, -118.2437), (51.5074, -0.1278), (-33.8688, 151.2093), (48.8566, 2.3522)]\n",
      "coordinates_new.txt was created!\n"
     ]
    }
   ],
   "source": [
    "# 1\n",
    "def read_coordinates():\n",
    "    try:\n",
    "        # open file for reading\n",
    "        with open('coordinates.txt', mode='r') as file:\n",
    "            # create list from lines\n",
    "            tuple_list = [ tuple(line.strip().split(',')) for line in file.readlines() ]\n",
    "            # get new list\n",
    "            new_list = []\n",
    "            # conver data to float & add to new list\n",
    "            for lat, lon in tuple_list:\n",
    "                lat, lon = float(lat), float(lon)\n",
    "                new_list.append((lat, lon))\n",
    "            # return new list\n",
    "            return new_list\n",
    "        \n",
    "    # catch & return exceptions\n",
    "    except Exception as e:\n",
    "        return f\"{e.__class__.__qualname__}: {e}\"\n",
    "    \n",
    "# 2\n",
    "def write_coordinates(coord_list, filename='coordinates_new.txt') -> None:\n",
    "    try:\n",
    "        # open new file for writing\n",
    "        with open(filename, mode='w') as file:\n",
    "            for tup in coord_list:\n",
    "                file.write(f\"{tup[0]},{tup[1]}\\n\")\n",
    "        \n",
    "        print(f\"{filename} was created!\")\n",
    "    # catch & return exceptions\n",
    "    except Exception as e:\n",
    "        print(f\"{e.__class__.__qualname__}: {e}\")\n",
    "\n",
    "# create coordinates list from file\n",
    "coord_list = read_coordinates()\n",
    "print(coord_list)\n",
    "\n",
    "# write list to new file\n",
    "write_coordinates(coord_list)"
   ]
  },
  {
   "cell_type": "markdown",
   "id": "9",
   "metadata": {},
   "source": [
    "## Exercise 5: Processing Coordinates from a File\n",
    "\n",
    "- Create a function that reads coordinates from a file and uses the `Point` class to create `Point` objects.\n",
    "- Calculate the distance between each consecutive pair of points and write the results to a new file.\n",
    "- Ensure the function handles file-related exceptions and gracefully handles improperly formatted lines."
   ]
  },
  {
   "cell_type": "code",
   "execution_count": 143,
   "id": "10",
   "metadata": {},
   "outputs": [
    {
     "name": "stdout",
     "output_type": "stream",
     "text": [
      "Sample file 'coordinates.txt' has been created successfully.\n"
     ]
    }
   ],
   "source": [
    "# Create a sample coordinates.txt file\n",
    "sample_data = \"\"\"35.6895,139.6917\n",
    "34.0522,-118.2437\n",
    "51.5074,-0.1278\n",
    "-33.8688,151.2093\n",
    "48.8566,2.3522\"\"\"\n",
    "\n",
    "output_file = \"coordinates.txt\"\n",
    "\n",
    "try:\n",
    "    with open(output_file, \"w\") as file:\n",
    "        file.write(sample_data)\n",
    "    print(f\"Sample file '{output_file}' has been created successfully.\")\n",
    "except Exception as e:\n",
    "    print(f\"An error occurred while creating the file: {e}\")"
   ]
  },
  {
   "cell_type": "code",
   "execution_count": null,
   "id": "11",
   "metadata": {},
   "outputs": [],
   "source": []
  },
  {
   "cell_type": "markdown",
   "id": "12",
   "metadata": {},
   "source": [
    "## Exercise 6: Exception Handling in Data Processing\n",
    "\n",
    "- Modify the `batch_distance_calculation` function to handle exceptions that might occur during the calculation, such as invalid coordinates.\n",
    "- Ensure the function skips invalid data and continues processing the remaining data."
   ]
  },
  {
   "cell_type": "code",
   "execution_count": null,
   "id": "13",
   "metadata": {},
   "outputs": [],
   "source": []
  }
 ],
 "metadata": {
  "kernelspec": {
   "display_name": "geo",
   "language": "python",
   "name": "python3"
  },
  "language_info": {
   "codemirror_mode": {
    "name": "ipython",
    "version": 3
   },
   "file_extension": ".py",
   "mimetype": "text/x-python",
   "name": "python",
   "nbconvert_exporter": "python",
   "pygments_lexer": "ipython3",
   "version": "3.11.14"
  }
 },
 "nbformat": 4,
 "nbformat_minor": 5
}
