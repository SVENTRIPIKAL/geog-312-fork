{
 "cells": [
  {
   "cell_type": "markdown",
   "id": "3ac1d5d5",
   "metadata": {},
   "source": [
    "# Variables and Data Types\n",
    "\n",
    "## Introduction\n",
    "\n",
    "Welcome to this introductory lesson on Python variables and data types in a geospatial context. This notebook will guide you through the basics of Python, which are essential for geospatial analysis."
   ]
  },
  {
   "cell_type": "markdown",
   "id": "c99b58dd",
   "metadata": {},
   "source": [
    "## Variables in Python\n",
    "\n",
    "In Python, a variable is a symbolic name that is a reference or pointer to an object. Once an object is assigned to a variable, you can refer to that object by the variable name.\n",
    "\n",
    "Let's start by creating a simple variable that represents the number of spatial points in a dataset."
   ]
  },
  {
   "cell_type": "code",
   "execution_count": null,
   "id": "449e2b53",
   "metadata": {},
   "outputs": [],
   "source": [
    "num_points = 120"
   ]
  },
  {
   "cell_type": "markdown",
   "id": "4bcdb656",
   "metadata": {},
   "source": [
    "This variable `num_points` now holds the integer value 120, which we can use in our calculations or logic.\n",
    "\n",
    "To view the value of the variable, we can use the `print()` function."
   ]
  },
  {
   "cell_type": "code",
   "execution_count": null,
   "id": "c2f92343",
   "metadata": {},
   "outputs": [],
   "source": [
    "print(num_points)"
   ]
  },
  {
   "cell_type": "markdown",
   "id": "e55e8d94",
   "metadata": {},
   "source": [
    "## Data Types\n",
    "\n",
    "Python supports various data types, which are essential to understand before working with geospatial data. The most common data types include:\n",
    "\n",
    "**a) Integers (int):** These are whole numbers, e.g., 1, 120, -5"
   ]
  },
  {
   "cell_type": "code",
   "execution_count": null,
   "id": "2a86b199",
   "metadata": {},
   "outputs": [],
   "source": [
    "num_features = 500  # Represents the number of features in a geospatial dataset"
   ]
  },
  {
   "cell_type": "markdown",
   "id": "22a68db1",
   "metadata": {},
   "source": [
    "**b) Floating-point numbers (float):** These are numbers with a decimal point, e.g., 3.14, -0.001, 100.0"
   ]
  },
  {
   "cell_type": "code",
   "execution_count": null,
   "id": "396170ed",
   "metadata": {},
   "outputs": [],
   "source": [
    "latitude = 35.6895  # Represents the latitude of a point on Earth's surface"
   ]
  },
  {
   "cell_type": "markdown",
   "id": "dd3800fb",
   "metadata": {},
   "source": [
    "**c) Strings (str):** Strings are sequences of characters, e.g., \"Hello\", \"Geospatial Data\", \"Lat/Long\""
   ]
  },
  {
   "cell_type": "code",
   "execution_count": null,
   "id": "a41d673d",
   "metadata": {},
   "outputs": [],
   "source": [
    "coordinate_system = \"WGS 84\"  # Represents a commonly used coordinate system"
   ]
  },
  {
   "cell_type": "markdown",
   "id": "b7219ab4",
   "metadata": {},
   "source": [
    "**d) Booleans (bool):** Booleans represent one of two values: True or False"
   ]
  },
  {
   "cell_type": "code",
   "execution_count": null,
   "id": "d0065877",
   "metadata": {},
   "outputs": [],
   "source": [
    "is_georeferenced = True  # Represents whether a dataset is georeferenced or not"
   ]
  },
  {
   "cell_type": "markdown",
   "id": "cfda9ece",
   "metadata": {},
   "source": [
    "**e) Lists:** Lists are ordered collections of items, which can be of any data type."
   ]
  },
  {
   "cell_type": "code",
   "execution_count": null,
   "id": "2ce6a0d1",
   "metadata": {},
   "outputs": [],
   "source": [
    "coordinates = [35.6895, 139.6917]  # A list representing latitude and longitude of a point"
   ]
  },
  {
   "cell_type": "markdown",
   "id": "ea4dad5a",
   "metadata": {},
   "source": [
    "**f) Dictionaries (dict):** Dictionaries are collections of key-value pairs."
   ]
  },
  {
   "cell_type": "code",
   "execution_count": null,
   "id": "47dcaf65",
   "metadata": {},
   "outputs": [],
   "source": [
    "feature_attributes = {\n",
    "    \"name\": \"Mount Fuji\",\n",
    "    \"height_meters\": 3776,\n",
    "    \"type\": \"Stratovolcano\",\n",
    "    \"location\": [35.3606, 138.7274]\n",
    "}"
   ]
  },
  {
   "cell_type": "markdown",
   "id": "490b0a72",
   "metadata": {},
   "source": [
    "## Working with Variables and Data Types\n",
    "\n",
    "Now, let's do some basic operations with these variables.\n",
    "\n",
    "Adding a constant to the number of features:"
   ]
  },
  {
   "cell_type": "code",
   "execution_count": null,
   "id": "adc2b835",
   "metadata": {},
   "outputs": [],
   "source": [
    "num_features += 20\n",
    "print(\"Updated number of features:\", num_features)"
   ]
  },
  {
   "cell_type": "markdown",
   "id": "e14f9606",
   "metadata": {},
   "source": [
    "Converting latitude from degrees to radians (required for some geospatial calculations):"
   ]
  },
  {
   "cell_type": "code",
   "execution_count": null,
   "id": "a0e6abdd",
   "metadata": {},
   "outputs": [],
   "source": [
    "import math\n",
    "latitude_radians = math.radians(latitude)\n",
    "print(\"Latitude in radians:\", latitude_radians)"
   ]
  },
  {
   "cell_type": "markdown",
   "id": "eb35ae47",
   "metadata": {},
   "source": [
    "Adding new coordinates to the list:"
   ]
  },
  {
   "cell_type": "code",
   "execution_count": null,
   "id": "282bff36",
   "metadata": {},
   "outputs": [],
   "source": [
    "coordinates.append(34.0522)  # Adding latitude of Los Angeles\n",
    "coordinates.append(-118.2437)  # Adding longitude of Los Angeles\n",
    "print(\"Updated coordinates:\", coordinates)"
   ]
  },
  {
   "cell_type": "markdown",
   "id": "47fb3264",
   "metadata": {},
   "source": [
    "Accessing dictionary elements:"
   ]
  },
  {
   "cell_type": "code",
   "execution_count": null,
   "id": "19b357cc",
   "metadata": {},
   "outputs": [],
   "source": [
    "mount_fuji_name = feature_attributes[\"name\"]\n",
    "mount_fuji_height = feature_attributes[\"height_meters\"]\n",
    "print(f\"{mount_fuji_name} is {mount_fuji_height} meters high.\")"
   ]
  },
  {
   "cell_type": "markdown",
   "id": "4f508126",
   "metadata": {},
   "source": [
    "## Application in Geospatial Context\n",
    "\n",
    "Let's say you are given a list of coordinates and need to calculate the centroid (average point).\n",
    "\n",
    "Example coordinates of four points (latitude, longitude):"
   ]
  },
  {
   "cell_type": "code",
   "execution_count": null,
   "id": "49530a9a",
   "metadata": {},
   "outputs": [],
   "source": [
    "points = [\n",
    "    [35.6895, 139.6917],  # Tokyo\n",
    "    [34.0522, -118.2437],  # Los Angeles\n",
    "    [51.5074, -0.1278],    # London\n",
    "    [48.8566, 2.3522]      # Paris\n",
    "]"
   ]
  },
  {
   "cell_type": "markdown",
   "id": "077e697c",
   "metadata": {},
   "source": [
    "Calculate the centroid:"
   ]
  },
  {
   "cell_type": "code",
   "execution_count": null,
   "id": "4f15210a",
   "metadata": {},
   "outputs": [],
   "source": [
    "centroid_lat = sum([point[0] for point in points]) / len(points)\n",
    "centroid_lon = sum([point[1] for point in points]) / len(points)\n",
    "centroid = [centroid_lat, centroid_lon]\n",
    "print(\"Centroid of the points is at:\", centroid)"
   ]
  },
  {
   "cell_type": "markdown",
   "id": "41b6495b",
   "metadata": {},
   "source": [
    "## Conclusion\n",
    "\n",
    "Understanding Python variables and data types is crucial in geospatial programming.\n",
    "As you proceed with more complex analyses, these concepts will serve as the foundation for your work.\n",
    "Continue practicing by experimenting with different data types and operations in a geospatial context.\n",
    "\n",
    "Happy coding!"
   ]
  }
 ],
 "metadata": {
  "kernelspec": {
   "display_name": "geo",
   "language": "python",
   "name": "python3"
  },
  "language_info": {
   "codemirror_mode": {
    "name": "ipython",
    "version": 3
   },
   "file_extension": ".py",
   "mimetype": "text/x-python",
   "name": "python",
   "nbconvert_exporter": "python",
   "pygments_lexer": "ipython3",
   "version": "3.11.8"
  }
 },
 "nbformat": 4,
 "nbformat_minor": 5
}
