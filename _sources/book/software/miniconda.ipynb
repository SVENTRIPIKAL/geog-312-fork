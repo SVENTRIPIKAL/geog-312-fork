{
 "cells": [
  {
   "cell_type": "markdown",
   "id": "7efa7eab",
   "metadata": {},
   "source": [
    "# Miniconda\n",
    "\n",
    "```bash\n",
    "conda create -n geo python=3.11\n",
    "conda install -n base mamba -c conda-forge\n",
    "mamba install -c conda-forge geemap leafmap maplibre\n",
    "```"
   ]
  }
 ],
 "metadata": {
  "jupytext": {
   "text_representation": {
    "extension": ".md",
    "format_name": "myst",
    "format_version": 0.13,
    "jupytext_version": "1.16.2"
   }
  },
  "kernelspec": {
   "display_name": "Python 3",
   "language": "python",
   "name": "python3"
  },
  "source_map": [
   12
  ]
 },
 "nbformat": 4,
 "nbformat_minor": 5
}